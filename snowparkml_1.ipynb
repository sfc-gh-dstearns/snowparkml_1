{
 "cells": [
  {
   "cell_type": "code",
   "execution_count": null,
   "id": "3775908f-ca36-4846-8f38-5adca39217f2",
   "metadata": {
    "codeCollapsed": false,
    "language": "python",
    "name": "cell1"
   },
   "outputs": [],
   "source": [
    "# Import python packages\n",
    "import streamlit as st\n",
    "import pandas as pd\n",
    "import random\n",
    "\n",
    "# We can also use Snowpark for our analyses!\n",
    "from snowflake.snowpark.context import get_active_session\n",
    "session = get_active_session()\n",
    "from snowflake.snowpark import functions as F\n",
    "from snowflake.snowpark import types as T\n",
    "from snowflake.snowpark import Window\n",
    "import snowflake.ml.modeling.preprocessing as preproc\n",
    "from snowflake.ml.modeling.xgboost import XGBRegressor\n",
    "from snowflake.ml.registry import Registry\n",
    "import snowflake.ml.modeling.metrics as metrics"
   ]
  },
  {
   "cell_type": "code",
   "execution_count": null,
   "id": "7ebb1f4f-e4d1-40d7-bea6-ab783f2580e6",
   "metadata": {
    "codeCollapsed": false,
    "language": "python",
    "name": "cell30"
   },
   "outputs": [],
   "source": [
    "st.title(\":snowflake::sparkles: Snowpark ML + Notebooks + Streamlit :sparkles::snowflake:\")\n",
    "st.subheader(\"*It just works!*\")"
   ]
  },
  {
   "cell_type": "code",
   "execution_count": null,
   "id": "b8fb0485",
   "metadata": {},
   "outputs": [],
   "source": [
    "st.subheader(\"I just made a substantial code change!\")"
   ]
  },
  {
   "cell_type": "code",
   "execution_count": null,
   "id": "ca33ccb0-5745-4ef1-bf5e-e81364e6dcf4",
   "metadata": {
    "codeCollapsed": false,
    "collapsed": true,
    "language": "python",
    "name": "cell4"
   },
   "outputs": [],
   "source": [
    "df = session.table(\"views_stations\").drop(F.col(\"nhood_geo\"))\n",
    "df.show(3)"
   ]
  },
  {
   "cell_type": "code",
   "execution_count": null,
   "id": "88b3e2da-df17-49c7-b4ec-44f7d78e140e",
   "metadata": {
    "codeCollapsed": false,
    "collapsed": true,
    "language": "python",
    "name": "cell5"
   },
   "outputs": [],
   "source": [
    "df.select(\n",
    "    F.col(\"station_id\"), F.col(\"station_lat\"), F.col(\"station_lon\")\n",
    ").group_by(F.col(\"station_id\")).count().select(\n",
    "    F.col(\"station_id\"), F.col(\"COUNT\")\n",
    ").show()"
   ]
  },
  {
   "cell_type": "code",
   "execution_count": null,
   "id": "3f28106b-e865-421b-b8fb-0af5e4a6e79e",
   "metadata": {
    "codeCollapsed": false,
    "language": "python",
    "name": "cell10"
   },
   "outputs": [],
   "source": [
    "df = df.select(\n",
    "    F.col(\"station_id\"), F.col(\"station_lat\"), F.col(\"station_lon\")\n",
    ").group_by(F.col(\"station_id\"), F.col(\"station_lat\"), F.col(\"station_lon\")).count().select(\n",
    "    F.col(\"station_id\"), F.col(\"station_lat\"), F.col(\"station_lon\"), F.col(\"COUNT\")\n",
    ")"
   ]
  },
  {
   "cell_type": "code",
   "execution_count": null,
   "id": "cc54aedb-16fc-4bb8-92e3-e46125970deb",
   "metadata": {
    "codeCollapsed": false,
    "collapsed": true,
    "language": "python",
    "name": "cell6"
   },
   "outputs": [],
   "source": [
    "df.explain()"
   ]
  },
  {
   "cell_type": "code",
   "execution_count": null,
   "id": "27d05dae-1cfd-45c0-ac79-9f135b1738c2",
   "metadata": {
    "codeCollapsed": false,
    "collapsed": true,
    "language": "python",
    "name": "cell7"
   },
   "outputs": [],
   "source": [
    "st.bar_chart(\n",
    "    data = df,\n",
    "    x = \"STATION_ID\",\n",
    "    y = \"COUNT\"\n",
    ")"
   ]
  },
  {
   "cell_type": "code",
   "execution_count": null,
   "id": "cc2e0d8b-5c51-4459-ba85-786f2a463907",
   "metadata": {
    "codeCollapsed": false,
    "collapsed": true,
    "language": "python",
    "name": "cell8"
   },
   "outputs": [],
   "source": [
    "st.map(\n",
    "    data = df,\n",
    "    latitude=\"STATION_LAT\",\n",
    "    longitude=\"STATION_LON\",\n",
    "    color=\"#29b5e8\"\n",
    ")"
   ]
  },
  {
   "cell_type": "markdown",
   "id": "216fa371-28fd-4da1-8f9b-97db006f9b8a",
   "metadata": {
    "collapsed": false,
    "name": "cell16"
   },
   "source": [
    "# Snowpark ML"
   ]
  },
  {
   "cell_type": "code",
   "execution_count": null,
   "id": "6686ad51-db4e-4be6-8e26-013238f94a63",
   "metadata": {
    "codeCollapsed": false,
    "language": "python",
    "name": "cell12"
   },
   "outputs": [],
   "source": [
    "def prepare_data_for_training():\n",
    "    # Re-establish the base table as the df variable\n",
    "    df = session.table(\"historical_weather\")\n",
    "    \n",
    "    # Aggregate all of the data into a \"NY Metro\" classification\n",
    "    weather = df.select(\n",
    "        F.lit(\"NY Metro\").alias(\"state\"),\n",
    "        F.col(\"postal_code\"),\n",
    "        F.col(\"date_valid_std\").alias(\"observation_date\"),\n",
    "        F.col(\"min_temperature_air_2m_f\"),\n",
    "        F.col(\"max_temperature_air_2m_f\"),\n",
    "        F.col(\"avg_temperature_air_2m_f\"),\n",
    "        F.col(\"tot_precipitation_in\"),\n",
    "        F.col(\"tot_snowfall_in\"),\n",
    "        F.col(\"tot_snowdepth_in\"),\n",
    "        F.col(\"avg_wind_speed_100m_mph\")).group_by([\n",
    "            F.col(\"state\"), F.col(\"observation_date\")\n",
    "        ]).agg(\n",
    "            F.avg(F.col(\"min_temperature_air_2m_f\")).alias(\"min_temp\"),\n",
    "            F.avg(F.col(\"max_temperature_air_2m_f\")).alias(\"max_temp\"),\n",
    "            F.avg(F.col(\"avg_temperature_air_2m_f\")).alias(\"avg_temp\"),\n",
    "            F.avg(F.col(\"tot_precipitation_in\")).alias(\"total_precipitation\"),\n",
    "            F.avg(F.col(\"tot_snowfall_in\")).alias(\"total_snowfall\"),\n",
    "            F.avg(F.col(\"tot_snowdepth_in\")).alias(\"snowdepth\"),\n",
    "            F.avg(F.col(\"avg_wind_speed_100m_mph\")).alias(\"wind_speed\")\n",
    "        )\n",
    "    \n",
    "    # Work with our internally collected ad_views and stations data\n",
    "    \n",
    "    ad_views = session.table(\"ad_views\")\n",
    "    stations = session.table(\"stations\")\n",
    "    \n",
    "    views_stations = ad_views.join(\n",
    "        stations,\n",
    "        ad_views[\"start_station_id\"]==stations[\"station_id\"],\n",
    "        \"leftouter\").select(\n",
    "                ad_views[\"trip_id\"].alias(\"ad_id\"),\n",
    "                ad_views[\"starttime\"],\n",
    "                ad_views[\"endtime\"],\n",
    "                ad_views[\"duration\"],\n",
    "                ad_views[\"start_station_id\"].alias(\"station_id\"),\n",
    "                stations[\"station_name\"],\n",
    "                stations[\"region_name\"],\n",
    "                stations[\"borough_name\"],\n",
    "                stations[\"nhood_name\"],\n",
    "                stations[\"station_geo\"],\n",
    "                stations[\"station_lat\"],\n",
    "                stations[\"station_lon\"],\n",
    "                stations[\"nhood_geo\"],\n",
    "                ad_views[\"gender\"],\n",
    "                ad_views[\"member_type\"]\n",
    "            )\n",
    "\n",
    "    # Save the data as a view\n",
    "    # We can use this view to create other types of analyses\n",
    "    # Example: analysis based on gender, member_type, etc...\n",
    "    views_stations.dropna().createOrReplaceView(name=\"views_stations\")\n",
    "\n",
    "    # Perform some light feature engineering\n",
    "    \n",
    "    df = session.table(\"views_stations\")\n",
    "    \n",
    "    df = df.select(\n",
    "        *df,\n",
    "        F.to_date(F.col(\"starttime\")).alias(\"date\"),\n",
    "        # Time of Day feature\n",
    "        # 3 - Late / 0 - Morning / 1 - Afternoon / 2 - Evening\n",
    "        (\n",
    "            F.when(\n",
    "                F.to_time(F.col(\"starttime\")).between('00:00', '04:59'),\n",
    "                F.lit(3)\n",
    "            ).when(\n",
    "                F.to_time(F.col(\"starttime\")).between('05:00', '11:59'),\n",
    "                F.lit(0)\n",
    "            ).when(\n",
    "                F.to_time(F.col(\"starttime\")).between('12:00', '16:59'),\n",
    "                F.lit(1)\n",
    "            ).when(\n",
    "                F.to_time(F.col(\"starttime\")).between('17:00', '23:59'),\n",
    "                F.lit(2)\n",
    "            )\n",
    "        ).alias(\"time_of_day\")\n",
    "        ).select(\n",
    "            F.col(\"date\"),\n",
    "            F.col(\"time_of_day\"),\n",
    "            F.col(\"station_id\")\n",
    "        ).groupBy(\n",
    "            F.col(\"date\"),\n",
    "            F.col(\"time_of_day\"),\n",
    "            F.col(\"station_id\")\n",
    "        ).count().select(\n",
    "            F.col(\"date\"),\n",
    "            F.col(\"time_of_day\"),\n",
    "            F.col(\"station_id\"),\n",
    "            F.col(\"count\").alias(\"y\"),\n",
    "            F.log(\n",
    "                base=10,\n",
    "                x=F.col(\"count\")\n",
    "            ).alias(\"y_log\"),\n",
    "            F.lag(\n",
    "                F.col(\"y_log\")).over(\n",
    "                    window=Window.orderBy(\n",
    "                        [F.col(\"station_id\"), F.col(\"time_of_day\"), F.col(\"date\")]\n",
    "                    )\n",
    "                ).alias(\"y_log_lag\")\n",
    "        ).orderBy(\n",
    "            F.col(\"date\").asc(),\n",
    "            F.col(\"time_of_day\").asc(),\n",
    "            F.col(\"station_id\")\n",
    "        )\n",
    "    # Join the views_stations and weather data\n",
    "    # Select only relevant columns\n",
    "    \n",
    "    views_stations_weather = df.join(\n",
    "        weather,\n",
    "        df[\"date\"] == weather[\"observation_date\"],\n",
    "        how=\"inner\"\n",
    "        ).select(\n",
    "            F.col(\"date\"),\n",
    "            F.col(\"time_of_day\"),\n",
    "            F.col(\"station_id\"),\n",
    "            F.col(\"min_temp\"),\n",
    "            F.col(\"max_temp\"),\n",
    "            F.col(\"avg_temp\"),\n",
    "            F.col(\"total_precipitation\"),\n",
    "            F.col(\"total_snowfall\"),\n",
    "            F.col(\"snowdepth\"),\n",
    "            F.col(\"wind_speed\"),\n",
    "            F.col(\"y\"),\n",
    "            F.col(\"y_log\"),\n",
    "            F.col(\"y_log_lag\")\n",
    "        )\n",
    "\n",
    "    # Create a wind_indicator column based on wind speed\n",
    "    # 0 - None / 1 - Light / 2 - Moderate / 3 - Heavy\n",
    "    views_stations_weather = views_stations_weather.withColumn(\n",
    "        \"wind_indicator\",\n",
    "        F.when(\n",
    "            F.col(\"wind_speed\") < 0.1,\n",
    "            F.lit(0)\n",
    "        ).when(\n",
    "            F.col(\"wind_speed\").between(0.1, 12),\n",
    "            F.lit(1)\n",
    "        ).when(\n",
    "            F.col(\"wind_speed\").between(12.1, 30),\n",
    "            F.lit(2)\n",
    "        ).when(\n",
    "            F.col(\"wind_speed\") > 30,\n",
    "            F.lit(3)\n",
    "        ).otherwise(F.lit(0)))\n",
    "    return views_stations_weather"
   ]
  },
  {
   "cell_type": "code",
   "execution_count": null,
   "id": "1aa32fa5-a0cc-455f-9a58-649eb9554c82",
   "metadata": {
    "codeCollapsed": false,
    "language": "python",
    "name": "cell11"
   },
   "outputs": [],
   "source": [
    "views_stations_weather = prepare_data_for_training()"
   ]
  },
  {
   "cell_type": "code",
   "execution_count": null,
   "id": "dbdc9123-95a1-4c19-9aaa-27905b74bf75",
   "metadata": {
    "codeCollapsed": false,
    "collapsed": true,
    "language": "python",
    "name": "cell13"
   },
   "outputs": [],
   "source": [
    "views_stations_weather.show()"
   ]
  },
  {
   "cell_type": "code",
   "execution_count": null,
   "id": "5072cc92-23ab-48ef-8ad6-23edd8149460",
   "metadata": {
    "codeCollapsed": false,
    "collapsed": true,
    "language": "python",
    "name": "cell9"
   },
   "outputs": [],
   "source": [
    "# Here is another, simpler way to do this using the Snowpark ML Preprocessing library\n",
    "binarizer = preproc.Binarizer(\n",
    "    threshold=0,\n",
    "    input_cols=[\"total_precipitation\", \"total_snowfall\", \"snowdepth\"],\n",
    "    output_cols=[\"rain_indicator\", \"snow_indicator\", \"snow_on_ground\"],\n",
    "    drop_input_cols=True\n",
    ")\n",
    "\n",
    "# You'll see the new columns at the beginning of our data frame!\n",
    "binarizer.transform(views_stations_weather).show()"
   ]
  },
  {
   "cell_type": "code",
   "execution_count": null,
   "id": "3b8b738f-ac9d-4744-8c80-392ed224e24b",
   "metadata": {
    "codeCollapsed": false,
    "language": "python",
    "name": "cell18"
   },
   "outputs": [],
   "source": [
    "# Run the binarizer, reorder columns, drop the wind_speed column -- save to the data frame definition\n",
    "views_stations_weather = binarizer.transform(views_stations_weather).select(\n",
    "    F.col(\"date\"), F.col(\"time_of_day\"), F.col(\"station_id\"),\n",
    "    F.cast(F.col(\"min_temp\"), T.FloatType()).alias(\"min_temp\"),\n",
    "    F.cast(F.col(\"max_temp\"), T.FloatType()).alias(\"max_temp\"),\n",
    "    F.cast(F.col(\"avg_temp\"), T.FloatType()).alias(\"avg_temp\"),\n",
    "    F.col(\"wind_indicator\"), F.col(\"rain_indicator\"), F.col(\"snow_indicator\"),\n",
    "    F.col(\"snow_on_ground\"), F.col(\"y\"), F.col(\"y_log\"), F.col(\"y_log_lag\")\n",
    ")"
   ]
  },
  {
   "cell_type": "code",
   "execution_count": null,
   "id": "e9daeafd-9d63-41dd-bd28-885a3257f84c",
   "metadata": {
    "codeCollapsed": false,
    "collapsed": true,
    "language": "python",
    "name": "cell14"
   },
   "outputs": [],
   "source": [
    "ohe = preproc.OneHotEncoder(\n",
    "    input_cols=[\"STATION_ID\"],\n",
    "    output_cols=[\"STATION_ID_OHE\"],\n",
    "    # drop_input_cols=False\n",
    "    drop_input_cols=True\n",
    ")\n",
    "output_cols = ohe.fit(views_stations_weather).get_output_cols()\n",
    "ohe.fit(views_stations_weather).transform(views_stations_weather).show()"
   ]
  },
  {
   "cell_type": "code",
   "execution_count": null,
   "id": "9f055d89-1431-4aba-9e58-39e5904236cc",
   "metadata": {
    "codeCollapsed": false,
    "collapsed": true,
    "language": "python",
    "name": "cell15"
   },
   "outputs": [],
   "source": [
    "# Now apply the OHE to the data frame and reorder the columns\n",
    "views_stations_weather = ohe.fit(views_stations_weather).transform(views_stations_weather)\n",
    "\n",
    "# Save the data back to database as a table\n",
    "views_stations_weather.write.save_as_table(\"views_stations_weather\", mode=\"overwrite\")"
   ]
  },
  {
   "cell_type": "code",
   "execution_count": null,
   "id": "51f7e8b4-5acc-4e02-8f72-51771aa19a40",
   "metadata": {
    "codeCollapsed": false,
    "collapsed": true,
    "language": "sql",
    "name": "cell19"
   },
   "outputs": [],
   "source": [
    "select * from views_stations_weather limit 10"
   ]
  },
  {
   "cell_type": "code",
   "execution_count": null,
   "id": "d9ff7514-1450-4b77-b890-5aee3086f372",
   "metadata": {
    "codeCollapsed": false,
    "language": "python",
    "name": "cell20"
   },
   "outputs": [],
   "source": [
    "registry = Registry(session=session, database_name=\"CITICORP_ADS_LAB\", schema_name=\"DEMO_DATA\")"
   ]
  },
  {
   "cell_type": "code",
   "execution_count": null,
   "id": "418c0377-b39d-47c7-9a81-1f59c53df5ad",
   "metadata": {
    "codeCollapsed": false,
    "collapsed": true,
    "language": "python",
    "name": "cell21"
   },
   "outputs": [],
   "source": [
    "session.use_warehouse(\"high_mem_wh\")\n",
    "train, test = session.table(\"views_stations_weather\").limit(50000).random_split(weights=[0.7,0.3], seed=42)\n",
    "\n",
    "feature_column_names = train.drop(\"date\", \"y\", \"y_log\").columns\n",
    "output_column_names = [\"PREDICTION\"]\n",
    "label_column_name = [\"Y_LOG\"]\n",
    "\n",
    "xgb = XGBRegressor(\n",
    "    input_cols=feature_column_names,\n",
    "    output_cols=output_column_names,\n",
    "    label_cols=label_column_name\n",
    "    )\n",
    "xgb.fit(train)\n",
    "print(\"Done training.\")"
   ]
  },
  {
   "cell_type": "code",
   "execution_count": null,
   "id": "ab8caeba-6710-495e-9cb5-1e87debf4418",
   "metadata": {
    "codeCollapsed": false,
    "collapsed": true,
    "language": "python",
    "name": "cell22"
   },
   "outputs": [],
   "source": [
    "test_results = xgb.predict(test).select(\n",
    "    F.col(\"y_log\"),\n",
    "    F.col(\"prediction\").alias(\"prediction\")\n",
    ")\n",
    "\n",
    "test_results.show()"
   ]
  },
  {
   "cell_type": "code",
   "execution_count": null,
   "id": "5aed8dfd-b953-4a05-81bd-2e2ad70c2b58",
   "metadata": {
    "codeCollapsed": false,
    "collapsed": true,
    "language": "python",
    "name": "cell23"
   },
   "outputs": [],
   "source": [
    "r2 = metrics.r2_score(\n",
    "    df=test_results,\n",
    "    y_true_col_name=\"Y_LOG\",\n",
    "    y_pred_col_name=\"PREDICTION\"\n",
    ")\n",
    "mae = metrics.mean_absolute_error(\n",
    "    df=test_results,\n",
    "    y_true_col_names=\"Y_LOG\",\n",
    "    y_pred_col_names=\"PREDICTION\"\n",
    ")\n",
    "mse = metrics.mean_squared_error(\n",
    "    df=test_results,\n",
    "    y_true_col_names=\"Y_LOG\",\n",
    "    y_pred_col_names=\"PREDICTION\"\n",
    ")"
   ]
  },
  {
   "cell_type": "code",
   "execution_count": null,
   "id": "95c8d9b0-e79d-49b4-94ab-001a4e6c2ade",
   "metadata": {
    "codeCollapsed": false,
    "collapsed": true,
    "language": "python",
    "name": "cell29"
   },
   "outputs": [],
   "source": [
    "name = f\"xgb_{random.randint(1001,1500)}\"\n",
    "name"
   ]
  },
  {
   "cell_type": "code",
   "execution_count": null,
   "id": "95a78010-20c4-46d2-93a6-2be30f9cf686",
   "metadata": {
    "codeCollapsed": false,
    "collapsed": true,
    "language": "python",
    "name": "cell24"
   },
   "outputs": [],
   "source": [
    "model = registry.log_model(\n",
    "    xgb,\n",
    "    model_name=name,\n",
    "    version_name=\"v1\",\n",
    "    comment = \"My first Snowpark ML model!\",\n",
    "    metrics = {\"r2\": r2, \"mae\": mae, \"mse\": mse}\n",
    ")"
   ]
  },
  {
   "cell_type": "code",
   "execution_count": null,
   "id": "bdfbefcb-c896-4117-b1df-87d0f59c787b",
   "metadata": {
    "codeCollapsed": false,
    "collapsed": true,
    "language": "python",
    "name": "cell3"
   },
   "outputs": [],
   "source": [
    "registry.show_models()"
   ]
  },
  {
   "cell_type": "code",
   "execution_count": null,
   "id": "be10f43a-0f70-46e1-8c5b-0c07e64cc011",
   "metadata": {
    "codeCollapsed": false,
    "collapsed": true,
    "language": "python",
    "name": "cell26"
   },
   "outputs": [],
   "source": [
    "model = registry.get_model(name)\n",
    "model = model.version(\"V1\")\n",
    "model.show_metrics()"
   ]
  },
  {
   "cell_type": "markdown",
   "id": "3a6f49e6-eb80-46fc-ae14-c8f16db0f8c5",
   "metadata": {
    "collapsed": false,
    "name": "cell28"
   },
   "source": [
    "These next two queries use **Jinja Templating** to pass in a dynamic Python value to the SQL query!"
   ]
  },
  {
   "cell_type": "code",
   "execution_count": null,
   "id": "23fddd10-4c89-4a9a-bdff-eb4ab5190d35",
   "metadata": {
    "codeCollapsed": false,
    "collapsed": true,
    "language": "sql",
    "name": "cell25"
   },
   "outputs": [],
   "source": [
    "WITH my_model_v1 AS MODEL citicorp_ads_lab.demo_data.{{name}} VERSION \"V1\"\n",
    "     SELECT my_model_v1!predict(*) as prediction FROM snowpark_iceberg.demo_data.XGB_DEMO_MODEL_V1_TEST_DATA limit 10"
   ]
  },
  {
   "cell_type": "code",
   "execution_count": null,
   "id": "dd19d52f-9297-4710-86fd-656385f17da2",
   "metadata": {
    "codeCollapsed": false,
    "collapsed": true,
    "language": "sql",
    "name": "cell27"
   },
   "outputs": [],
   "source": [
    "select\n",
    "    prediction:\"PREDICTION\" as prediction\n",
    "from (\n",
    "    WITH my_model_v1 AS MODEL citicorp_ads_lab.demo_data.{{name}} VERSION \"V1\"\n",
    "    SELECT\n",
    "        my_model_v1!predict(*) as prediction\n",
    "    FROM\n",
    "        snowpark_iceberg.demo_data.XGB_DEMO_MODEL_V1_TEST_DATA\n",
    "    limit 10\n",
    "    )"
   ]
  }
 ],
 "metadata": {
  "kernelspec": {
   "display_name": "Streamlit Notebook",
   "name": "streamlit"
  }
 },
 "nbformat": 4,
 "nbformat_minor": 5
}
